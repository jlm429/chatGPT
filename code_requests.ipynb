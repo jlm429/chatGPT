{
 "cells": [
  {
   "cell_type": "code",
   "execution_count": 1,
   "metadata": {},
   "outputs": [],
   "source": [
    "import os\n",
    "from os.path import join, dirname\n",
    "import openai\n",
    "import dotenv\n",
    "from dotenv import dotenv_values, load_dotenv"
   ]
  },
  {
   "cell_type": "code",
   "execution_count": 2,
   "metadata": {},
   "outputs": [],
   "source": [
    "dotenv_path = join('..', '.env')\n",
    "load_dotenv(dotenv_path)\n",
    "openai.api_key = os.environ.get(\"OPENAI_API_KEY\")\n",
    "#config = dotenv_values(\".env\")\n",
    "#openai.api_key = config[\"OPENAI_API_KEY\"]"
   ]
  },
  {
   "cell_type": "markdown",
   "metadata": {},
   "source": [
    "## Ask gpt-3.5-turbo to explain a function \n",
    "(previously using the codex model - now deprecated)"
   ]
  },
  {
   "cell_type": "code",
   "execution_count": 7,
   "metadata": {},
   "outputs": [],
   "source": [
    "func = \"\"\"\n",
    "self._convert_state_obs = lambda state, done: (\n",
    "    -1 if done else int(f\"{state[0] + 6}{(state[1] - 2) % 10}\") if state[2] else int(\n",
    "        f\"{state[0] - 4}{(state[1] - 2) % 10}\"))\n",
    "\"\"\"\n",
    "messages = [\n",
    "    {\"role\":\"system\", \"content\": \"you are a Python explaining assistant\"},\n",
    "    {\"role\": \"user\", \"content\": f\"Explain the following function: {func}\"}\n",
    "]"
   ]
  },
  {
   "cell_type": "code",
   "execution_count": 8,
   "metadata": {},
   "outputs": [],
   "source": [
    "res = openai.ChatCompletion.create(\n",
    "    messages=messages,\n",
    "    model=\"gpt-3.5-turbo\"\n",
    ")"
   ]
  },
  {
   "cell_type": "code",
   "execution_count": 9,
   "metadata": {},
   "outputs": [
    {
     "name": "stdout",
     "output_type": "stream",
     "text": [
      "This function is a lambda function assigned to the variable `self._convert_state_obs`. It takes two parameters, `state` and `done`. \n",
      "\n",
      "The function converts the `state` input into a single integer value based on certain conditions. \n",
      "\n",
      "If `done` is `True`, meaning the episode is over, the function returns -1. \n",
      "\n",
      "Otherwise, it checks the value of `state[2]`. If it is `True`, the function converts the first two elements of the `state` tuple into a string and appends them together in a specific format. The first element is added to 6, and the second element is subtracted by 2 and then taken modulo 10. Finally, the resulting string is converted to an integer. \n",
      "\n",
      "If `state[2]` is `False`, a similar process is followed, but the first element is subtracted by 4 instead of adding 6 at the beginning. \n",
      "\n",
      "The purpose of this function is to convert a state representation into a single integer value for observation purposes. This can be useful in certain scenarios, such as when working with reinforcement learning algorithms that accept only numeric inputs.\n"
     ]
    }
   ],
   "source": [
    "print(res[\"choices\"][0][\"message\"][\"content\"])"
   ]
  },
  {
   "cell_type": "markdown",
   "metadata": {},
   "source": [
    "# Other CS fun"
   ]
  },
  {
   "cell_type": "markdown",
   "metadata": {},
   "source": [
    "## Time & Memory Complexity"
   ]
  },
  {
   "cell_type": "code",
   "execution_count": 10,
   "metadata": {},
   "outputs": [],
   "source": [
    "bubble_sort = \"\"\"\n",
    "def sort(array):    \n",
    "  for i in range(len(array)):\n",
    "    for j in range(0, len(array) - i - 1):\n",
    "      if array[j] > array[j + 1]:\n",
    "        temp = array[j]\n",
    "        array[j] = array[j+1]\n",
    "        array[j+1] = temp\n",
    "\"\"\""
   ]
  },
  {
   "cell_type": "code",
   "execution_count": 19,
   "metadata": {},
   "outputs": [],
   "source": [
    "merge_sort = \"\"\"\n",
    "def partition(array, low, high):\n",
    "    pivot = array[high]\n",
    "    i = low - 1\n",
    " \n",
    "    for j in range(low, high):\n",
    "        if array[j] <= pivot:\n",
    "            i = i + 1\n",
    "            (array[i], array[j]) = (array[j], array[i])\n",
    "    (array[i + 1], array[high]) = (array[high], array[i + 1])\n",
    "    return i + 1\n",
    "  \n",
    "def sort(array, low, high):\n",
    "    if low < high:\n",
    "        pi = partition(array, low, high)\n",
    "        sort(array, low, pi - 1)\n",
    "        sort(array, pi + 1, high)\n",
    "\"\"\""
   ]
  },
  {
   "cell_type": "code",
   "execution_count": 20,
   "metadata": {},
   "outputs": [],
   "source": [
    "messages = [\n",
    "    {\"role\": \"user\", \"content\": f\"What is the time and memory complexity of the following 'sort' function: {merge_sort}\"}\n",
    "]"
   ]
  },
  {
   "cell_type": "code",
   "execution_count": 23,
   "metadata": {},
   "outputs": [],
   "source": [
    "res = openai.ChatCompletion.create(\n",
    "    messages=messages,\n",
    "    model=\"gpt-3.5-turbo\"\n",
    ")"
   ]
  },
  {
   "cell_type": "code",
   "execution_count": 24,
   "metadata": {},
   "outputs": [
    {
     "name": "stdout",
     "output_type": "stream",
     "text": [
      "The time complexity of the 'sort' function is O(n log n) in the average and best cases, and O(n^2) in the worst case. \n",
      "\n",
      "This is because the 'sort' function uses the partition function to divide the array into two subarrays based on a pivot element. The partition function takes O(n) time to rearrange the elements such that all elements smaller than the pivot come before it, and all elements larger than the pivot come after it. \n",
      "\n",
      "The 'sort' function then recursively calls itself on the two subarrays created by the partition function. This recursion continues until the subarrays have size 1 or 0, which requires O(log n) recursive calls in the average and best cases.\n",
      "\n",
      "In the worst case, where the partition function consistently chooses a pivot that is the smallest or largest element in the current subarray, the recursion depth becomes n, resulting in a time complexity of O(n^2).\n",
      "\n",
      "The space complexity of the 'sort' function is O(log n) in the average and best cases and O(n) in the worst case. This is due to the recursive calls and the manipulation of the pivot within the partition function.\n"
     ]
    }
   ],
   "source": [
    "print(res[\"choices\"][0][\"message\"][\"content\"])"
   ]
  },
  {
   "cell_type": "markdown",
   "metadata": {},
   "source": [
    "## Loop Invariants"
   ]
  },
  {
   "cell_type": "code",
   "execution_count": 25,
   "metadata": {},
   "outputs": [],
   "source": [
    "messages = [\n",
    "    {\"role\": \"user\", \"content\": f\"Use a loop invariant to prove the correctness of the following function: {bubble_sort}\"}\n",
    "]"
   ]
  },
  {
   "cell_type": "code",
   "execution_count": 26,
   "metadata": {},
   "outputs": [],
   "source": [
    "res = openai.ChatCompletion.create(\n",
    "    messages=messages,\n",
    "    model=\"gpt-3.5-turbo\"\n",
    ")"
   ]
  },
  {
   "cell_type": "code",
   "execution_count": 27,
   "metadata": {},
   "outputs": [
    {
     "name": "stdout",
     "output_type": "stream",
     "text": [
      "To prove the correctness of the given function, we can use the loop invariant technique. A loop invariant is a condition that is true before and after each iteration of the loop.\n",
      "\n",
      "The loop invariant for this function can be stated as follows:\n",
      "\n",
      "At the start of each iteration of the outer loop (with variable i), the subarray array[:i] is sorted in non-decreasing order.\n",
      "\n",
      "We can prove the correctness of the function by showing that the loop invariant holds true at the three different stages of the loop: initialization, maintenance, and termination.\n",
      "\n",
      "Initialization: \n",
      "Before the first iteration of the outer loop, i is equal to 0. The subarray array[:0] is empty, and therefore, vacuously sorted. So the loop invariant holds true initially.\n",
      "\n",
      "Maintenance:\n",
      "Assume that the loop invariant is true at the start of the i-th iteration of the outer loop. This means that the subarray array[:i] is sorted in non-decreasing order.\n",
      "\n",
      "Now, in the inner loop with variable j, we swap adjacent elements if they are out of order. This ensures that the largest element in the subarray array[:i] \"bubbles\" up to the correct position at the end of the subarray. In other words, after the i-th iteration of the outer loop, the largest i elements in the array are in their correct positions.\n",
      "\n",
      "Therefore, after the (i+1)-th iteration of the outer loop, the subarray array[:i+1] is sorted in non-decreasing order, which maintains the loop invariant.\n",
      "\n",
      "Termination:\n",
      "The outer loop terminates when i reaches len(array). At this point, the loop invariant implies that the entire array is sorted in non-decreasing order.\n",
      "\n",
      "Therefore, by the loop invariant, we have proven the correctness of the function.\n"
     ]
    }
   ],
   "source": [
    "print(res[\"choices\"][0][\"message\"][\"content\"])"
   ]
  },
  {
   "cell_type": "markdown",
   "metadata": {},
   "source": [
    "## Reductions"
   ]
  },
  {
   "cell_type": "code",
   "execution_count": 30,
   "metadata": {},
   "outputs": [],
   "source": [
    "messages = [\n",
    "    {\"role\": \"user\", \"content\": \"reduce clique to vertex cover\"}\n",
    "]"
   ]
  },
  {
   "cell_type": "code",
   "execution_count": 31,
   "metadata": {},
   "outputs": [],
   "source": [
    "res = openai.ChatCompletion.create(\n",
    "    messages=messages,\n",
    "    model=\"gpt-3.5-turbo\"\n",
    ")"
   ]
  },
  {
   "cell_type": "code",
   "execution_count": 32,
   "metadata": {
    "scrolled": true
   },
   "outputs": [
    {
     "name": "stdout",
     "output_type": "stream",
     "text": [
      "To reduce the clique problem to the vertex cover problem, we need to show that if we have a polynomial-time algorithm for solving the vertex cover problem, we can use it to solve the clique problem in polynomial time.\n",
      "\n",
      "Given an undirected graph G and an integer k, we want to determine if there exists a clique of size k in G.\n",
      "\n",
      "The clique problem can be reduced to the vertex cover problem as follows:\n",
      "\n",
      "1. Create a new graph G' by complementing the edges of G. This means that if there is an edge between two vertices in G, there will not be an edge between those vertices in G', and vice versa.\n",
      "\n",
      "2. Run the polynomial-time algorithm for the vertex cover problem on G' with the parameter k.\n",
      "\n",
      "3. If the algorithm for the vertex cover problem returns \"yes\", it means that there exists a vertex cover of size k in G'. Since the vertices in the vertex cover in G' correspond to the vertices not in the vertex cover in G, the remaining vertices form a clique of size k in G.\n",
      "\n",
      "4. If the algorithm for the vertex cover problem returns \"no\", it means that there does not exist a vertex cover of size k in G'. This implies that there does not exist a clique of size k in G.\n",
      "\n",
      "Therefore, if we can solve the vertex cover problem in polynomial time, we can use this reduction to solve the clique problem in polynomial time as well.\n"
     ]
    }
   ],
   "source": [
    "print(res[\"choices\"][0][\"message\"][\"content\"])"
   ]
  },
  {
   "cell_type": "markdown",
   "metadata": {},
   "source": [
    "## Countability"
   ]
  },
  {
   "cell_type": "code",
   "execution_count": 33,
   "metadata": {},
   "outputs": [],
   "source": [
    "messages = [\n",
    "    {\"role\": \"user\", \"content\": \"Is Σ ∗ × Σ ∗ × Σ∗ = {(x, y, z) | x, y, x ∈ Σ ∗} countable?\"}\n",
    "]"
   ]
  },
  {
   "cell_type": "code",
   "execution_count": 34,
   "metadata": {},
   "outputs": [],
   "source": [
    "res = openai.ChatCompletion.create(\n",
    "    messages=messages,\n",
    "    model=\"gpt-3.5-turbo\"\n",
    ")"
   ]
  },
  {
   "cell_type": "code",
   "execution_count": 35,
   "metadata": {
    "scrolled": false
   },
   "outputs": [
    {
     "name": "stdout",
     "output_type": "stream",
     "text": [
      "Yes, Σ * × Σ * × Σ* is countable.\n",
      "\n",
      "To prove this, we need to show that there exists a bijection between Σ * × Σ * × Σ* and a countable set, such as the set of natural numbers.\n",
      "\n",
      "We can define a function f from Σ * × Σ * × Σ* to the set of natural numbers as follows:\n",
      "\n",
      "First, we assign a unique prime number to each character in Σ. Let's call this function g: Σ → prime numbers.\n",
      "\n",
      "Then, for each tuple (x, y, z) ∈ Σ * × Σ * × Σ*, we can calculate f(x, y, z) = g(x) * g(y) * g(z).\n",
      "\n",
      "Since multiplication of prime numbers is unique, f(x, y, z) will be a unique natural number for each tuple.\n",
      "\n",
      "Furthermore, we can define a function g^-1 from the set of natural numbers to Σ * × Σ * × Σ* as follows:\n",
      "\n",
      "Given a natural number n, we can factorize it into its prime factors. Let's call these prime factors p1, p2, ..., pk.\n",
      "\n",
      "Then, we can define g^-1(n) = (x, y, z), where x = g^-1(p1), y = g^-1(p2), and z = g^-1(pk).\n",
      "\n",
      "This function assigns a unique tuple (x, y, z) for each natural number n.\n",
      "\n",
      "Therefore, we have established a bijection between Σ * × Σ * × Σ* and the set of natural numbers, proving that Σ * × Σ * × Σ* is countable.\n"
     ]
    }
   ],
   "source": [
    "print(res[\"choices\"][0][\"message\"][\"content\"])"
   ]
  },
  {
   "cell_type": "markdown",
   "metadata": {},
   "source": [
    "## Turing Machines"
   ]
  },
  {
   "cell_type": "code",
   "execution_count": 39,
   "metadata": {},
   "outputs": [],
   "source": [
    "messages = [\n",
    "    {\"role\": \"user\", \"content\": \"Show that any multi-tape Turing machine can also be decided by a single-tape Turing machine.\"}\n",
    "]"
   ]
  },
  {
   "cell_type": "code",
   "execution_count": 40,
   "metadata": {},
   "outputs": [],
   "source": [
    "res = openai.ChatCompletion.create(\n",
    "    messages=messages,\n",
    "    model=\"gpt-3.5-turbo\"\n",
    ")"
   ]
  },
  {
   "cell_type": "code",
   "execution_count": 41,
   "metadata": {},
   "outputs": [
    {
     "name": "stdout",
     "output_type": "stream",
     "text": [
      "To show that any multi-tape Turing machine can also be decided by a single-tape Turing machine, we can simulate the behavior of the multi-tape machine using a single tape. \n",
      "\n",
      "Let's assume we have a multi-tape Turing machine M with k tapes. We will construct a single-tape Turing machine M' that behaves exactly like M.\n",
      "\n",
      "The idea is to use the single tape of M' to simulate the k tapes of M. We can represent the tapes of M using a single tape, where each cell of the tape holds a tuple (a1, a2, ..., ak), representing the symbols at the corresponding position on each tape of M.\n",
      "\n",
      "Initially, the single tape of M' is empty. Whenever M moves to a new cell on any of its tapes, M' will update the corresponding position on its single tape.\n",
      "\n",
      "Here is a high-level description of how M' simulates M:\n",
      "\n",
      "1. Initialize the single tape of M' as empty.\n",
      "2. On each step, M' copies the symbols from the current position of each tape in M (a1, a2, ..., ak) to the corresponding position on its single tape.\n",
      "3. M' simulates the behavior of M by maintaining the current state and position of the head of M'.\n",
      "   - On each step, M' looks up the current symbol and state of M' on its single tape.\n",
      "   - M' uses a transition function, similar to M, to determine the new symbol, state, and movement of M' on its single tape.\n",
      "   - M' updates the current symbol and position on its single tape accordingly.\n",
      "4. M' repeats steps 2 and 3 until it reaches a final state of M'.\n",
      "\n",
      "By simulating the behavior of the multi-tape machine on a single tape, M' effectively handles all possible configurations and movements of the k tapes, and can decide the same language as M.\n",
      "\n",
      "Therefore, any multi-tape Turing machine can be decided by a single-tape Turing machine.\n"
     ]
    }
   ],
   "source": [
    "print(res[\"choices\"][0][\"message\"][\"content\"])"
   ]
  },
  {
   "cell_type": "markdown",
   "metadata": {},
   "source": [
    "## Convert Java to Python"
   ]
  },
  {
   "cell_type": "code",
   "execution_count": 13,
   "metadata": {},
   "outputs": [],
   "source": [
    "java = \"\"\"\n",
    "public static Boolean checkStrings(String a, String b){\n",
    "\n",
    "    //hash string a\n",
    "    int[] nums=new int[Character.getNumericValue('z')-Character.getNumericValue('a')+1];\n",
    "    for (int i=0; i<a.length(); i++){\n",
    "        nums[Character.getNumericValue(a.charAt(i))-Character.getNumericValue('a')]++;\n",
    "    }\n",
    "\n",
    "    //check for each letter\n",
    "    for (int i=0; i<b.length(); i++){\n",
    "        if(nums[Character.getNumericValue(b.charAt(i))-Character.getNumericValue('a')]<=0){\n",
    "            return Boolean.FALSE;\n",
    "        }\n",
    "        else{\n",
    "            nums[Character.getNumericValue(b.charAt(i))-Character.getNumericValue('a')]--;\n",
    "        }\n",
    "    }\n",
    "\n",
    "    //check if anagram\n",
    "    for (int i=0; i<nums.length; i++){\n",
    "        if (nums[i]>0){\n",
    "            return Boolean.FALSE;\n",
    "        }\n",
    "    }\n",
    "\n",
    "    return Boolean.TRUE;\n",
    "}\n",
    "\"\"\""
   ]
  },
  {
   "cell_type": "code",
   "execution_count": 14,
   "metadata": {},
   "outputs": [],
   "source": [
    "messages = [\n",
    "    {\"role\": \"user\", \"content\": f\"Translate the following Java method to a Python function: {java}\"}\n",
    "]"
   ]
  },
  {
   "cell_type": "code",
   "execution_count": 15,
   "metadata": {},
   "outputs": [],
   "source": [
    "res = openai.ChatCompletion.create(\n",
    "    messages=messages,\n",
    "    model=\"gpt-3.5-turbo\"\n",
    ")"
   ]
  },
  {
   "cell_type": "code",
   "execution_count": 16,
   "metadata": {},
   "outputs": [
    {
     "name": "stdout",
     "output_type": "stream",
     "text": [
      "def check_strings(a, b):\n",
      "    nums = [0] * (ord('z')-ord('a')+1)\n",
      "\n",
      "    for char in a:\n",
      "        nums[ord(char)-ord('a')] += 1\n",
      "\n",
      "    for char in b:\n",
      "        if nums[ord(char)-ord('a')] <= 0:\n",
      "            return False\n",
      "        else:\n",
      "            nums[ord(char)-ord('a')] -= 1\n",
      "\n",
      "    for num in nums:\n",
      "        if num > 0:\n",
      "            return False\n",
      "\n",
      "    return True\n"
     ]
    }
   ],
   "source": [
    "print(res[\"choices\"][0][\"message\"][\"content\"])"
   ]
  },
  {
   "cell_type": "code",
   "execution_count": 21,
   "metadata": {},
   "outputs": [
    {
     "name": "stdout",
     "output_type": "stream",
     "text": [
      "True\n"
     ]
    }
   ],
   "source": [
    "#valid anagram\n",
    "\n",
    "def check_strings(a, b):\n",
    "    nums = [0] * (ord('z')-ord('a')+1)\n",
    "\n",
    "    for char in a:\n",
    "        nums[ord(char)-ord('a')] += 1\n",
    "\n",
    "    for char in b:\n",
    "        if nums[ord(char)-ord('a')] <= 0:\n",
    "            return False\n",
    "        else:\n",
    "            nums[ord(char)-ord('a')] -= 1\n",
    "\n",
    "    for num in nums:\n",
    "        if num > 0:\n",
    "            return False\n",
    "\n",
    "    return True\n",
    "\n",
    "a=\"taco\"\n",
    "b=\"cato\"\n",
    "print(check_strings(a,b))"
   ]
  },
  {
   "cell_type": "code",
   "execution_count": 43,
   "metadata": {},
   "outputs": [],
   "source": [
    "java = \"\"\"\n",
    "public static int sieve(int n){\n",
    "    n++;\n",
    "    Boolean[] a=new Boolean[n];\n",
    "    int sqrtN=(int) java.lang.Math.sqrt(n)+1;\n",
    "    int count=n-2;\n",
    "\n",
    "    //init array\n",
    "    a[0]=Boolean.FALSE;\n",
    "    a[1]=Boolean.FALSE;\n",
    "    for (int i=2; i<n; i++){\n",
    "        a[i]=Boolean.TRUE;\n",
    "    }\n",
    "\n",
    "    for (int i=2; i<sqrtN; i++){\n",
    "        if(a[i]){\n",
    "            for (int j=(int)java.lang.Math.pow(i,2); j<n; j=j+i){\n",
    "                if (a[j]){\n",
    "                    count--;\n",
    "                }\n",
    "                a[j]=Boolean.FALSE;\n",
    "\n",
    "            }\n",
    "        }\n",
    "    }\n",
    "\n",
    "    return count;\n",
    "}\n",
    "\"\"\""
   ]
  },
  {
   "cell_type": "code",
   "execution_count": 44,
   "metadata": {},
   "outputs": [],
   "source": [
    "messages = [\n",
    "    {\"role\": \"user\", \"content\": f\"Translate the following Java method to a Python function: {java}\"}\n",
    "]"
   ]
  },
  {
   "cell_type": "code",
   "execution_count": 45,
   "metadata": {},
   "outputs": [],
   "source": [
    "res = openai.ChatCompletion.create(\n",
    "    messages=messages,\n",
    "    model=\"gpt-3.5-turbo\"\n",
    ")"
   ]
  },
  {
   "cell_type": "code",
   "execution_count": 46,
   "metadata": {},
   "outputs": [
    {
     "name": "stdout",
     "output_type": "stream",
     "text": [
      "def sieve(n):\n",
      "    n += 1\n",
      "    a = [True] * n\n",
      "    sqrtN = int(math.sqrt(n) + 1)\n",
      "    count = n - 2\n",
      "\n",
      "    #init array\n",
      "    a[0] = False\n",
      "    a[1] = False\n",
      "    for i in range(2, n):\n",
      "        a[i] = True\n",
      "\n",
      "    for i in range(2, sqrtN):\n",
      "        if a[i]:\n",
      "            for j in range(i**2, n, i):\n",
      "                if a[j]:\n",
      "                    count -= 1\n",
      "                a[j] = False\n",
      "    return count\n"
     ]
    }
   ],
   "source": [
    "print(res[\"choices\"][0][\"message\"][\"content\"])"
   ]
  },
  {
   "cell_type": "code",
   "execution_count": 47,
   "metadata": {},
   "outputs": [
    {
     "name": "stdout",
     "output_type": "stream",
     "text": [
      "3\n"
     ]
    }
   ],
   "source": [
    "#count primes\n",
    "import math\n",
    "\n",
    "def sieve(n):\n",
    "    n += 1\n",
    "    a = [True] * n\n",
    "    sqrtN = int(math.sqrt(n) + 1)\n",
    "    count = n - 2\n",
    "\n",
    "    #init array\n",
    "    a[0] = False\n",
    "    a[1] = False\n",
    "    for i in range(2, n):\n",
    "        a[i] = True\n",
    "\n",
    "    for i in range(2, sqrtN):\n",
    "        if a[i]:\n",
    "            for j in range(i**2, n, i):\n",
    "                if a[j]:\n",
    "                    count -= 1\n",
    "                a[j] = False\n",
    "    return count\n",
    "\n",
    "print(sieve(5))"
   ]
  },
  {
   "cell_type": "code",
   "execution_count": null,
   "metadata": {},
   "outputs": [],
   "source": []
  }
 ],
 "metadata": {
  "kernelspec": {
   "display_name": "jupyter_env",
   "language": "python",
   "name": "jupyter_env"
  },
  "language_info": {
   "codemirror_mode": {
    "name": "ipython",
    "version": 3
   },
   "file_extension": ".py",
   "mimetype": "text/x-python",
   "name": "python",
   "nbconvert_exporter": "python",
   "pygments_lexer": "ipython3",
   "version": "3.7.6"
  }
 },
 "nbformat": 4,
 "nbformat_minor": 4
}
