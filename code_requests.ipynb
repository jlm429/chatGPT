{
 "cells": [
  {
   "cell_type": "code",
   "execution_count": 1,
   "metadata": {},
   "outputs": [],
   "source": [
    "import os\n",
    "from os.path import join, dirname\n",
    "import openai\n",
    "import dotenv\n",
    "from dotenv import dotenv_values, load_dotenv"
   ]
  },
  {
   "cell_type": "code",
   "execution_count": 2,
   "metadata": {},
   "outputs": [],
   "source": [
    "dotenv_path = join('..', '.env')\n",
    "load_dotenv(dotenv_path)\n",
    "openai.api_key = os.environ.get(\"OPENAI_API_KEY\")\n",
    "#config = dotenv_values(\".env\")\n",
    "#openai.api_key = config[\"OPENAI_API_KEY\"]"
   ]
  },
  {
   "cell_type": "markdown",
   "metadata": {},
   "source": [
    "## Ask gpt-3.5-turbo to explain a function \n",
    "(previously using the codex model - now deprecated)"
   ]
  },
  {
   "cell_type": "code",
   "execution_count": 7,
   "metadata": {},
   "outputs": [],
   "source": [
    "func = \"\"\"\n",
    "self._convert_state_obs = lambda state, done: (\n",
    "    -1 if done else int(f\"{state[0] + 6}{(state[1] - 2) % 10}\") if state[2] else int(\n",
    "        f\"{state[0] - 4}{(state[1] - 2) % 10}\"))\n",
    "\"\"\"\n",
    "messages = [\n",
    "    {\"role\":\"system\", \"content\": \"you are a Python explaining assistant\"},\n",
    "    {\"role\": \"user\", \"content\": f\"Explain the following function: {func}\"}\n",
    "]"
   ]
  },
  {
   "cell_type": "code",
   "execution_count": 8,
   "metadata": {},
   "outputs": [],
   "source": [
    "res = openai.ChatCompletion.create(\n",
    "    messages=messages,\n",
    "    model=\"gpt-3.5-turbo\"\n",
    ")"
   ]
  },
  {
   "cell_type": "code",
   "execution_count": 9,
   "metadata": {},
   "outputs": [
    {
     "name": "stdout",
     "output_type": "stream",
     "text": [
      "This function is a lambda function assigned to the variable `self._convert_state_obs`. It takes two parameters, `state` and `done`. \n",
      "\n",
      "The function converts the `state` input into a single integer value based on certain conditions. \n",
      "\n",
      "If `done` is `True`, meaning the episode is over, the function returns -1. \n",
      "\n",
      "Otherwise, it checks the value of `state[2]`. If it is `True`, the function converts the first two elements of the `state` tuple into a string and appends them together in a specific format. The first element is added to 6, and the second element is subtracted by 2 and then taken modulo 10. Finally, the resulting string is converted to an integer. \n",
      "\n",
      "If `state[2]` is `False`, a similar process is followed, but the first element is subtracted by 4 instead of adding 6 at the beginning. \n",
      "\n",
      "The purpose of this function is to convert a state representation into a single integer value for observation purposes. This can be useful in certain scenarios, such as when working with reinforcement learning algorithms that accept only numeric inputs.\n"
     ]
    }
   ],
   "source": [
    "print(res[\"choices\"][0][\"message\"][\"content\"])"
   ]
  },
  {
   "cell_type": "code",
   "execution_count": null,
   "metadata": {},
   "outputs": [],
   "source": []
  }
 ],
 "metadata": {
  "kernelspec": {
   "display_name": "jupyter_env",
   "language": "python",
   "name": "jupyter_env"
  },
  "language_info": {
   "codemirror_mode": {
    "name": "ipython",
    "version": 3
   },
   "file_extension": ".py",
   "mimetype": "text/x-python",
   "name": "python",
   "nbconvert_exporter": "python",
   "pygments_lexer": "ipython3",
   "version": "3.7.6"
  }
 },
 "nbformat": 4,
 "nbformat_minor": 4
}
