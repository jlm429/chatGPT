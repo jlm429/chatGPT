{
 "cells": [
  {
   "cell_type": "markdown",
   "metadata": {},
   "source": [
    "# openAI color palette generator\n",
    "Based on ideas from https://www.udemy.com/course/mastering-openai/"
   ]
  },
  {
   "cell_type": "code",
   "execution_count": 3,
   "metadata": {},
   "outputs": [
    {
     "name": "stderr",
     "output_type": "stream",
     "text": [
      "/home/john/anaconda3/lib/python3.7/site-packages/requests/__init__.py:91: RequestsDependencyWarning: urllib3 (2.0.4) or chardet (3.0.4) doesn't match a supported version!\n",
      "  RequestsDependencyWarning)\n"
     ]
    }
   ],
   "source": [
    "import os\n",
    "from os.path import join, dirname\n",
    "import openai\n",
    "import dotenv\n",
    "import json\n",
    "from dotenv import dotenv_values, load_dotenv"
   ]
  },
  {
   "cell_type": "code",
   "execution_count": 4,
   "metadata": {},
   "outputs": [],
   "source": [
    "dotenv_path = join('..', '.env')\n",
    "load_dotenv(dotenv_path)\n",
    "openai.api_key = os.environ.get(\"OPENAI_API_KEY\")\n",
    "#config = dotenv_values(\".env\")\n",
    "#openai.api_key = config[\"OPENAI_API_KEY\"]"
   ]
  },
  {
   "cell_type": "code",
   "execution_count": 5,
   "metadata": {},
   "outputs": [],
   "source": [
    "from IPython.display import Markdown, display\n",
    "\n",
    "def display_colors(colors):\n",
    "    display(Markdown(\" \".join(\n",
    "        f\"<span style=color:{color}>{chr(9608) * 5}</span>\"\n",
    "        for color in colors\n",
    "    )))"
   ]
  },
  {
   "cell_type": "code",
   "execution_count": 4,
   "metadata": {},
   "outputs": [],
   "source": [
    "def get_and_render_colors(msg):\n",
    "    prompt = f\"\"\"\n",
    "\n",
    "    You are a color palette generating assistant that responds to text prompts for color palettes\n",
    "    Your should generate color palettes that fit the theme, mood, or instructions in the prompt.\n",
    "    The palettes should be between 2 and 8 colors.\n",
    "\n",
    "    Q: Convert the following verbal description of a color palette into a list of colors: The Mediterranean Sea\n",
    "    A: [\"#006699\", \"#66CCCC\", \"#F0E68C\", \"#008000\", \"#F08080\"]\n",
    "\n",
    "    Q: Convert the following verbal description of a color palette into a list of colors: sage, nature, earth\n",
    "    A: [\"#EDF1D6\", \"#9DC08B\", \"#609966\", \"#40513B\"]\n",
    "\n",
    "\n",
    "    Desired Format: JSON array\n",
    "\n",
    "    Q: Convert the following verbal description of a color palette into a list of colors: {msg}\n",
    "    A:\n",
    "    \"\"\"\n",
    "\n",
    "    response = openai.Completion.create(\n",
    "        model=\"text-davinci-003\",\n",
    "        prompt=prompt,\n",
    "        max_tokens=200, #increase max_tokens\n",
    "    )\n",
    "    colors = json.loads(response[\"choices\"][0][\"text\"])\n",
    "    display_colors(colors)"
   ]
  },
  {
   "cell_type": "code",
   "execution_count": 7,
   "metadata": {},
   "outputs": [
    {
     "data": {
      "text/markdown": [
       "<span style=color:#FFC8D5>█████</span> <span style=color:#F1CB68>█████</span> <span style=color:#87D5CA>█████</span> <span style=color:#ADCDC3>█████</span> <span style=color:#DEA3A2>█████</span>"
      ],
      "text/plain": [
       "<IPython.core.display.Markdown object>"
      ]
     },
     "metadata": {},
     "output_type": "display_data"
    }
   ],
   "source": [
    "get_and_render_colors(\"five beach colors\")"
   ]
  },
  {
   "cell_type": "markdown",
   "metadata": {},
   "source": [
    "## using chat API for gpt-3.5-turbo/gpt-4 models"
   ]
  },
  {
   "cell_type": "code",
   "execution_count": 8,
   "metadata": {},
   "outputs": [],
   "source": [
    "def get_and_render_colors_chat(msg):\n",
    "    \n",
    "    messages = [\n",
    "        {\"role\": \"system\", \"content\": \"You are a color palette generating assistant that responds to text prompts for color palettes. You should generate color palettes that fit the theme, mood, or instructions in the prompt.The palettes should be between 2 and 8 colors.\" },\n",
    "        {\"role\": \"user\", \"content\": \"Convert the following verbal description of a color palette into a list of colors: The Mediterranean Sea\" },\n",
    "        {\"role\": \"assistant\", \"content\": '[\"#006699\", \"#66CCCC\", \"#F0E68C\", \"#008000\", \"#F08080\"]'},\n",
    "        {\"role\": \"user\", \"content\": \"Convert the following verbal description of a color palette into a list of colors: sage, nature, earth\"},\n",
    "        {\"role\": \"assistant\", \"content\": '[\"#EDF1D6\", \"#9DC08B\", \"#609966\", \"#40513B\"]'},\n",
    "        {\"role\": \"user\", \"content\": f\"Convert the following verbal description of a color palette into a list of colors: {msg}\"}\n",
    "    ]\n",
    "    response = openai.ChatCompletion.create(\n",
    "        messages=messages,       \n",
    "        model=\"gpt-3.5-turbo\", \n",
    "        max_tokens=200,\n",
    "    )\n",
    "    \n",
    "    colors = json.loads(response[\"choices\"][0][\"message\"][\"content\"])\n",
    "    display_colors(colors)"
   ]
  },
  {
   "cell_type": "code",
   "execution_count": 9,
   "metadata": {},
   "outputs": [
    {
     "data": {
      "text/markdown": [
       "<span style=color:#FFC917>█████</span> <span style=color:#4CB5F5>█████</span> <span style=color:#F47C3C>█████</span> <span style=color:#3D9970>█████</span> <span style=color:#FF6B6B>█████</span>"
      ],
      "text/plain": [
       "<IPython.core.display.Markdown object>"
      ]
     },
     "metadata": {},
     "output_type": "display_data"
    }
   ],
   "source": [
    "get_and_render_colors_chat(\"five beach colors\")"
   ]
  },
  {
   "cell_type": "code",
   "execution_count": null,
   "metadata": {},
   "outputs": [],
   "source": []
  }
 ],
 "metadata": {
  "kernelspec": {
   "display_name": "jupyter_env",
   "language": "python",
   "name": "jupyter_env"
  },
  "language_info": {
   "codemirror_mode": {
    "name": "ipython",
    "version": 3
   },
   "file_extension": ".py",
   "mimetype": "text/x-python",
   "name": "python",
   "nbconvert_exporter": "python",
   "pygments_lexer": "ipython3",
   "version": "3.7.6"
  }
 },
 "nbformat": 4,
 "nbformat_minor": 4
}
